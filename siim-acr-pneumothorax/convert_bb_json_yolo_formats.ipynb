{
 "cells": [
  {
   "cell_type": "code",
   "execution_count": 1,
   "id": "a4285bb1",
   "metadata": {},
   "outputs": [],
   "source": [
    "import pandas as pd"
   ]
  },
  {
   "cell_type": "code",
   "execution_count": 3,
   "id": "0312307f",
   "metadata": {},
   "outputs": [],
   "source": [
    "train = pd.read_json(\"bb_annotations_stratified_split/bb_train_split_anno.json\")"
   ]
  },
  {
   "cell_type": "code",
   "execution_count": 10,
   "id": "96e2d8bd",
   "metadata": {},
   "outputs": [
    {
     "name": "stdout",
     "output_type": "stream",
     "text": [
      "[[0.1017243713, 0.2944871783], [0.375705868, 0.24950516220000002], [0.4348601103, 0.6098083854], [0.1608786285, 0.6547904015]]\n"
     ]
    }
   ],
   "source": [
    "print(train.loc[train[\"image_id\"] == \"1.2.276.0.7230010.3.1.4.8323329.307.1517875162.311533\"][\"box\"][6232][\"points\"])"
   ]
  },
  {
   "cell_type": "markdown",
   "id": "4cfa26c9",
   "metadata": {},
   "source": [
    "# YOLO OBB format output"
   ]
  },
  {
   "cell_type": "code",
   "execution_count": 8,
   "id": "9de52ae6",
   "metadata": {},
   "outputs": [],
   "source": [
    "filepaths_with_output = {\"./obb_annotations_stratified_split/annos_with_areas/25_percentile/obb_train_split_area_25_percentile.json\": \"./obb_annotations_stratified_split/annos_with_areas/25_percentile/yolo_format/train_yolo_format.json\",\n",
    "                         \"./obb_annotations_stratified_split/annos_with_areas/25_percentile/obb_val_split_area_25_percentile.json\": \"./obb_annotations_stratified_split/annos_with_areas/25_percentile/yolo_format/val_yolo_format.json\",\n",
    "                         \"./obb_annotations_stratified_split/annos_with_areas/25_percentile/obb_test_split_area_25_percentile.json\": \"./obb_annotations_stratified_split/annos_with_areas/25_percentile/yolo_format/test_yolo_format.json\"}"
   ]
  },
  {
   "cell_type": "code",
   "execution_count": 9,
   "id": "f82ec85c",
   "metadata": {},
   "outputs": [],
   "source": [
    "for input_path, output_path in filepaths_with_output.items():\n",
    "    input = pd.read_json(input_path)\n",
    "    output = []\n",
    "    for index, row in input.iterrows():\n",
    "        row_output = []\n",
    "        row_output.append(row[\"image_id\"])\n",
    "        # extract out keypoints in correct format for the yolo stuff/other stuff\n",
    "        if row[\"box\"]: # if there's actually stuff in there\n",
    "            yolo_string = \"0 \"\n",
    "            points = row[\"box\"][\"points\"]\n",
    "            for pair in points:\n",
    "                yolo_string += f\"{pair[0]} \"\n",
    "                yolo_string += f\"{pair[1]} \"\n",
    "            row_output.append(yolo_string)\n",
    "        output.append(row_output)\n",
    "    output_df = pd.DataFrame(output, columns = [\"image_id\", \"box\"])\n",
    "    output_df.to_json(output_path, orient=\"records\", index=None, indent=2)"
   ]
  },
  {
   "cell_type": "markdown",
   "id": "af28040d",
   "metadata": {},
   "source": [
    "# YOLO regular bounding box format"
   ]
  },
  {
   "cell_type": "code",
   "execution_count": 4,
   "id": "f54ea623",
   "metadata": {},
   "outputs": [],
   "source": [
    "filepaths_with_output = {\"bb_annotations_stratified_split/bb_train_split_anno_xywh_norm.json\": \"bb_annotations_stratified_split/yolo_format/bb_train_yolo_format.json\",\n",
    "                         \"bb_annotations_stratified_split/bb_val_split_anno_xywh_norm.json\": \"bb_annotations_stratified_split/yolo_format/bb_val_yolo_format.json\",\n",
    "                         \"bb_annotations_stratified_split/bb_test_split_anno_xywh_norm.json\": \"bb_annotations_stratified_split/yolo_format/bb_test_yolo_format.json\",}"
   ]
  },
  {
   "cell_type": "code",
   "execution_count": 5,
   "id": "ff27a6c2",
   "metadata": {},
   "outputs": [],
   "source": [
    "for input_path, output_path in filepaths_with_output.items():\n",
    "    input = pd.read_json(input_path)\n",
    "    output = []\n",
    "    for index, row in input.iterrows():\n",
    "        row_output = []\n",
    "        row_output.append(row[\"image_id\"])\n",
    "        # extract out keypoints in correct format for the yolo stuff/other stuff\n",
    "        if row[\"box\"]: # if there's actually stuff in there\n",
    "            yolo_string = \"0 \"\n",
    "            points = row[\"box\"]\n",
    "            for point in points:\n",
    "                yolo_string += f\"{point} \"\n",
    "            row_output.append(yolo_string)\n",
    "        output.append(row_output)\n",
    "    output_df = pd.DataFrame(output, columns = [\"image_id\", \"box\"])\n",
    "    output_df.to_json(output_path, orient=\"records\", index=None, indent=2)"
   ]
  }
 ],
 "metadata": {
  "kernelspec": {
   "display_name": "mini_vindr_cxr_dataset",
   "language": "python",
   "name": "python3"
  },
  "language_info": {
   "codemirror_mode": {
    "name": "ipython",
    "version": 3
   },
   "file_extension": ".py",
   "mimetype": "text/x-python",
   "name": "python",
   "nbconvert_exporter": "python",
   "pygments_lexer": "ipython3",
   "version": "3.11.12"
  }
 },
 "nbformat": 4,
 "nbformat_minor": 5
}
