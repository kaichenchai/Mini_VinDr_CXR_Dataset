{
 "cells": [
  {
   "cell_type": "markdown",
   "id": "40396da0",
   "metadata": {},
   "source": [
    "# Imports"
   ]
  },
  {
   "cell_type": "code",
   "execution_count": 2,
   "id": "a03894a3",
   "metadata": {},
   "outputs": [],
   "source": [
    "import os\n",
    "import glob\n",
    "import tqdm\n",
    "\n",
    "import numpy as np\n",
    "import pandas as pd\n",
    "import matplotlib.pyplot as plt\n",
    "from sklearn.model_selection import train_test_split"
   ]
  },
  {
   "cell_type": "code",
   "execution_count": 11,
   "id": "25432c6b",
   "metadata": {},
   "outputs": [
    {
     "name": "stdout",
     "output_type": "stream",
     "text": [
      "(11582, 2)\n"
     ]
    }
   ],
   "source": [
    "train_anno = pd.read_csv(\"train-rle.csv\")\n",
    "print(train_anno.shape)"
   ]
  },
  {
   "cell_type": "code",
   "execution_count": 12,
   "id": "9fe131fa",
   "metadata": {},
   "outputs": [
    {
     "name": "stdout",
     "output_type": "stream",
     "text": [
      "(10675, 2)\n"
     ]
    }
   ],
   "source": [
    "train_anno_unique = train_anno.drop_duplicates([\"ImageId\"])\n",
    "print(train_anno_unique.shape)\n",
    "train_anno_unique_original = train_anno_unique.copy()"
   ]
  },
  {
   "cell_type": "code",
   "execution_count": 4,
   "id": "32c548f4",
   "metadata": {},
   "outputs": [
    {
     "name": "stderr",
     "output_type": "stream",
     "text": [
      "/var/folders/d0/k5pp1mc555bcl1qs6mvttwt40000gn/T/ipykernel_10214/1183727375.py:1: SettingWithCopyWarning: \n",
      "A value is trying to be set on a copy of a slice from a DataFrame\n",
      "\n",
      "See the caveats in the documentation: https://pandas.pydata.org/pandas-docs/stable/user_guide/indexing.html#returning-a-view-versus-a-copy\n",
      "  train_anno_unique.loc[train_anno_unique[\"EncodedPixels\"] != \" -1\", \"EncodedPixels\"] = \"1\"\n"
     ]
    }
   ],
   "source": [
    "train_anno_unique.loc[train_anno_unique[\"EncodedPixels\"] != \" -1\", \"EncodedPixels\"] = \"1\""
   ]
  },
  {
   "cell_type": "code",
   "execution_count": 5,
   "id": "3ac4c8c1",
   "metadata": {},
   "outputs": [],
   "source": [
    "X_train, X_test, y_train, y_test = train_test_split(train_anno_unique[\"ImageId\"],\n",
    "                                                    train_anno_unique[\"EncodedPixels\"],\n",
    "                                                    test_size=0.2,\n",
    "                                                    stratify=train_anno_unique[\"EncodedPixels\"],\n",
    "                                                    random_state=42069)"
   ]
  },
  {
   "cell_type": "code",
   "execution_count": 6,
   "id": "a322a9c1",
   "metadata": {},
   "outputs": [],
   "source": [
    "X_test, X_val, y_test, y_val = train_test_split(X_test, y_test, test_size=0.5, stratify=y_test, random_state=69420)"
   ]
  },
  {
   "cell_type": "code",
   "execution_count": 7,
   "id": "13f790ab",
   "metadata": {},
   "outputs": [
    {
     "data": {
      "image/png": "[encoded data removed]",
      "text/plain": [
       "<Figure size 640x480 with 1 Axes>"
      ]
     },
     "metadata": {},
     "output_type": "display_data"
    }
   ],
   "source": [
    "plt.hist(y_train, label= \"train\")\n",
    "plt.hist(y_test, label= \"test\")\n",
    "plt.hist(y_val, label= \"val\")\n",
    "plt.legend()\n",
    "plt.show()"
   ]
  },
  {
   "cell_type": "code",
   "execution_count": 8,
   "id": "77981c9e",
   "metadata": {},
   "outputs": [],
   "source": [
    "train_split_anno = train_anno[train_anno[\"ImageId\"].isin(X_train)]\n",
    "test_split_anno = train_anno[train_anno[\"ImageId\"].isin(X_test)]\n",
    "val_split_anno = train_anno[train_anno[\"ImageId\"].isin(X_val)]"
   ]
  },
  {
   "cell_type": "code",
   "execution_count": 9,
   "id": "5ae6ac63",
   "metadata": {},
   "outputs": [],
   "source": [
    "train_split_anno.to_csv(\"./mask_annotations_stratified_split/train_split_anno.csv\", index=None)\n",
    "test_split_anno.to_csv(\"./mask_annotations_stratified_split/test_split_anno.csv\", index=None)\n",
    "val_split_anno.to_csv(\"./mask_annotations_stratified_split/val_split_anno.csv\", index=None)"
   ]
  },
  {
   "cell_type": "code",
   "execution_count": 10,
   "id": "e99d1f73",
   "metadata": {},
   "outputs": [
    {
     "name": "stdout",
     "output_type": "stream",
     "text": [
      "(9230, 2)\n",
      "(1185, 2)\n",
      "(1167, 2)\n"
     ]
    }
   ],
   "source": [
    "print(train_split_anno.shape)\n",
    "print(val_split_anno.shape)\n",
    "print(test_split_anno.shape)"
   ]
  },
  {
   "cell_type": "markdown",
   "id": "eb64778f",
   "metadata": {},
   "source": [
    "# Splitting OBB files"
   ]
  },
  {
   "cell_type": "code",
   "execution_count": null,
   "id": "4b637058",
   "metadata": {},
   "outputs": [],
   "source": [
    "bb_full = pd.read_json(\"obb_full_mask_output.json\")"
   ]
  },
  {
   "cell_type": "code",
   "execution_count": 13,
   "id": "f8394e51",
   "metadata": {},
   "outputs": [],
   "source": [
    "bb_train = bb_full.loc[bb_full[\"image_id\"].isin(train_split_anno[\"ImageId\"])]\n",
    "bb_val = bb_full.loc[bb_full[\"image_id\"].isin(val_split_anno[\"ImageId\"])]\n",
    "bb_test = bb_full.loc[bb_full[\"image_id\"].isin(test_split_anno[\"ImageId\"])]"
   ]
  },
  {
   "cell_type": "code",
   "execution_count": null,
   "id": "45da90d7",
   "metadata": {},
   "outputs": [],
   "source": [
    "bb_train.to_json(\"./obb_annotations_stratified_split/bb_train_split_anno.json\", orient='records', indent=2, index=None)\n",
    "bb_val.to_json(\"./obb_annotations_stratified_split/bb_val_split_anno.json\", orient='records', indent=2, index=None)\n",
    "bb_test.to_json(\"./obb_annotations_stratified_split/bb_test_split_anno.json\", orient='records', indent=2, index=None)"
   ]
  },
  {
   "cell_type": "markdown",
   "id": "497ae5d4",
   "metadata": {},
   "source": [
    "# Splitting regular BB files"
   ]
  },
  {
   "cell_type": "code",
   "execution_count": 5,
   "id": "d437a36e",
   "metadata": {},
   "outputs": [],
   "source": [
    "train_split_anno = pd.read_csv(\"mask_annotations_stratified_split/train_split_anno.csv\")\n",
    "val_split_anno = pd.read_csv(\"mask_annotations_stratified_split/val_split_anno.csv\")\n",
    "test_split_anno = pd.read_csv(\"mask_annotations_stratified_split/test_split_anno.csv\")"
   ]
  },
  {
   "cell_type": "code",
   "execution_count": 6,
   "id": "d23ce778",
   "metadata": {},
   "outputs": [],
   "source": [
    "bb_full = pd.read_json(\"bb_full_mask_output.json\")\n",
    "\n",
    "bb_train = bb_full.loc[bb_full[\"image_id\"].isin(train_split_anno[\"ImageId\"])]\n",
    "bb_val = bb_full.loc[bb_full[\"image_id\"].isin(val_split_anno[\"ImageId\"])]\n",
    "bb_test = bb_full.loc[bb_full[\"image_id\"].isin(test_split_anno[\"ImageId\"])]"
   ]
  },
  {
   "cell_type": "code",
   "execution_count": 7,
   "id": "dd384c93",
   "metadata": {},
   "outputs": [],
   "source": [
    "bb_train.to_json(\"./bb_annotations_stratified_split/bb_train_split_anno_xywh_norm.json\", orient='records', indent=2, index=None)\n",
    "bb_val.to_json(\"./bb_annotations_stratified_split/bb_val_split_anno_xywh_norm.json\", orient='records', indent=2, index=None)\n",
    "bb_test.to_json(\"./bb_annotations_stratified_split/bb_test_split_anno_xywh_norm.json\", orient='records', indent=2, index=None)"
   ]
  },
  {
   "cell_type": "markdown",
   "id": "3749d931",
   "metadata": {},
   "source": [
    "# Split OBB with Areas "
   ]
  },
  {
   "cell_type": "code",
   "execution_count": 3,
   "id": "2ce94dd7",
   "metadata": {},
   "outputs": [],
   "source": [
    "train_split_anno = pd.read_csv(\"mask_annotations_stratified_split/train_split_anno.csv\")\n",
    "val_split_anno = pd.read_csv(\"mask_annotations_stratified_split/val_split_anno.csv\")\n",
    "test_split_anno = pd.read_csv(\"mask_annotations_stratified_split/test_split_anno.csv\")"
   ]
  },
  {
   "cell_type": "code",
   "execution_count": 4,
   "id": "7924830a",
   "metadata": {},
   "outputs": [],
   "source": [
    "bb_full = pd.read_json(\"obb_full_mask_output.json\")\n",
    "\n",
    "bb_train = bb_full.loc[bb_full[\"image_id\"].isin(train_split_anno[\"ImageId\"])]\n",
    "bb_val = bb_full.loc[bb_full[\"image_id\"].isin(val_split_anno[\"ImageId\"])]\n",
    "bb_test = bb_full.loc[bb_full[\"image_id\"].isin(test_split_anno[\"ImageId\"])]"
   ]
  },
  {
   "cell_type": "code",
   "execution_count": 5,
   "id": "a043fb45",
   "metadata": {},
   "outputs": [],
   "source": [
    "bb_train.to_json(\"./obb_annotations_stratified_split/annos_with_areas/all_annotations/obb_train_split_anno_with_areas.json\", orient='records', indent=2, index=None)\n",
    "bb_val.to_json(\"./obb_annotations_stratified_split/annos_with_areas/all_annotations/obb_val_split_anno_with_areas.json\", orient='records', indent=2, index=None)\n",
    "bb_test.to_json(\"./obb_annotations_stratified_split/annos_with_areas/all_annotations/obb_test_split_anno_with_areas.json\", orient='records', indent=2, index=None)"
   ]
  }
 ],
 "metadata": {
  "kernelspec": {
   "display_name": "Python 3",
   "language": "python",
   "name": "python3"
  },
  "language_info": {
   "codemirror_mode": {
    "name": "ipython",
    "version": 3
   },
   "file_extension": ".py",
   "mimetype": "text/x-python",
   "name": "python",
   "nbconvert_exporter": "python",
   "pygments_lexer": "ipython3",
   "version": "3.11.12"
  }
 },
 "nbformat": 4,
 "nbformat_minor": 5
}
