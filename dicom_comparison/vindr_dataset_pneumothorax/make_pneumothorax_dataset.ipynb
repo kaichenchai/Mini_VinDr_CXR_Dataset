{
 "cells": [
  {
   "cell_type": "code",
   "execution_count": 1,
   "id": "e40578ad",
   "metadata": {},
   "outputs": [],
   "source": [
    "import numpy as np\n",
    "import pandas as pd\n",
    "import random\n",
    "import copy"
   ]
  },
  {
   "cell_type": "code",
   "execution_count": 6,
   "id": "a21212ac",
   "metadata": {},
   "outputs": [],
   "source": [
    "train = pd.read_csv(\"../../stratifiedSplit/15-3-3_split/image_labels_trainNEW.csv\")"
   ]
  },
  {
   "cell_type": "code",
   "execution_count": 7,
   "id": "9de13459",
   "metadata": {},
   "outputs": [],
   "source": [
    "has_condition = train[train[\"Pneumothorax\"] == 1][\"image_id\"].to_list()\n",
    "no_condition = train[train[\"Pneumothorax\"] == 0][\"image_id\"].to_list()"
   ]
  },
  {
   "cell_type": "code",
   "execution_count": 18,
   "id": "24d46be4",
   "metadata": {},
   "outputs": [
    {
     "name": "stdout",
     "output_type": "stream",
     "text": [
      "71\n",
      "71\n",
      "11929\n",
      "12000\n"
     ]
    }
   ],
   "source": [
    "print(len(has_condition))\n",
    "print(len(set(has_condition)))\n",
    "print(len(no_condition))\n",
    "print((len(has_condition) + len(no_condition)))"
   ]
  },
  {
   "cell_type": "code",
   "execution_count": 9,
   "id": "8392d98f",
   "metadata": {},
   "outputs": [],
   "source": [
    "val = pd.read_csv(\"../../stratifiedSplit/15-3-3_split/image_labels_valNEW.csv\")"
   ]
  },
  {
   "cell_type": "code",
   "execution_count": 10,
   "id": "2ae801d8",
   "metadata": {},
   "outputs": [],
   "source": [
    "has_condition_val = val[val[\"Pneumothorax\"] == 1][\"image_id\"].to_list()\n",
    "no_condition_val = val[val[\"Pneumothorax\"] == 0][\"image_id\"].to_list()"
   ]
  },
  {
   "cell_type": "code",
   "execution_count": 19,
   "id": "01d2a57b",
   "metadata": {},
   "outputs": [
    {
     "name": "stdout",
     "output_type": "stream",
     "text": [
      "25\n",
      "25\n",
      "2975\n",
      "3000\n"
     ]
    }
   ],
   "source": [
    "print(len(has_condition_val))\n",
    "print(len(set(has_condition_val)))\n",
    "print(len(no_condition_val))\n",
    "print((len(has_condition_val) + len(no_condition_val)))"
   ]
  },
  {
   "cell_type": "code",
   "execution_count": 12,
   "id": "dd067e37",
   "metadata": {},
   "outputs": [],
   "source": [
    "random.seed(21451)\n",
    "sampled_no_condition = random.sample(no_condition, len(has_condition))\n",
    "sampled_no_condition_val = random.sample(no_condition_val, len(has_condition_val))"
   ]
  },
  {
   "cell_type": "code",
   "execution_count": 13,
   "id": "8337be01",
   "metadata": {},
   "outputs": [],
   "source": [
    "all_samples = copy.deepcopy(has_condition)\n",
    "all_samples.extend(sampled_no_condition)\n",
    "pneumothorax_flag = [1]*len(has_condition)\n",
    "pneumothorax_flag.extend([0]*len(has_condition))"
   ]
  },
  {
   "cell_type": "code",
   "execution_count": 15,
   "id": "21b13f62",
   "metadata": {},
   "outputs": [],
   "source": [
    "output_df = pd.DataFrame(list(zip(all_samples, pneumothorax_flag)), index=None, columns=[\"image_id\", \"pneumothorax_flag\"])\n",
    "output_df.to_csv(\"./vindr_pneumothorax_train.csv\", index=None)"
   ]
  },
  {
   "cell_type": "code",
   "execution_count": 14,
   "id": "742f511f",
   "metadata": {},
   "outputs": [],
   "source": [
    "all_samples_val = copy.deepcopy(has_condition_val)\n",
    "all_samples_val.extend(sampled_no_condition_val)\n",
    "pneumothorax_flag_val = [1]*len(has_condition_val)\n",
    "pneumothorax_flag_val.extend([0]*len(has_condition_val))"
   ]
  },
  {
   "cell_type": "code",
   "execution_count": 16,
   "id": "57a50216",
   "metadata": {},
   "outputs": [],
   "source": [
    "output_df_val = pd.DataFrame(list(zip(all_samples_val, pneumothorax_flag_val)), index=None, columns=[\"image_id\", \"pneumothorax_flag\"])\n",
    "output_df_val.to_csv(\"./vindr_pneumothorax_val.csv\", index=None)"
   ]
  }
 ],
 "metadata": {
  "kernelspec": {
   "display_name": "mini_vindr_cxr_dataset",
   "language": "python",
   "name": "python3"
  },
  "language_info": {
   "codemirror_mode": {
    "name": "ipython",
    "version": 3
   },
   "file_extension": ".py",
   "mimetype": "text/x-python",
   "name": "python",
   "nbconvert_exporter": "python",
   "pygments_lexer": "ipython3",
   "version": "3.11.12"
  }
 },
 "nbformat": 4,
 "nbformat_minor": 5
}
