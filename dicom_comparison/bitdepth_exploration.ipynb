{
 "cells": [
  {
   "cell_type": "code",
   "execution_count": 30,
   "id": "f454c785",
   "metadata": {},
   "outputs": [],
   "source": [
    "import glob\n",
    "import pydicom\n",
    "from pathlib import Path"
   ]
  },
  {
   "cell_type": "code",
   "execution_count": 23,
   "id": "67dec8ca",
   "metadata": {},
   "outputs": [],
   "source": [
    "images_dir = \"../original_dataset/train_subset/*.dicom\"\n",
    "images = glob.glob(images_dir)"
   ]
  },
  {
   "cell_type": "code",
   "execution_count": 27,
   "id": "16ddbc66",
   "metadata": {},
   "outputs": [],
   "source": [
    "test = pydicom.dcmread(images[0], stop_before_pixels=True)"
   ]
  },
  {
   "cell_type": "code",
   "execution_count": 28,
   "id": "2d412b99",
   "metadata": {},
   "outputs": [
    {
     "data": {
      "text/plain": [
       "12"
      ]
     },
     "execution_count": 28,
     "metadata": {},
     "output_type": "execute_result"
    }
   ],
   "source": [
    "test.BitsStored"
   ]
  },
  {
   "cell_type": "code",
   "execution_count": 29,
   "id": "642e1658",
   "metadata": {},
   "outputs": [
    {
     "data": {
      "text/plain": [
       "{'00100040': {'vr': 'CS', 'Value': ['F']},\n",
       " '00101020': {'vr': 'DS', 'Value': [0.0]},\n",
       " '00101030': {'vr': 'DS', 'Value': [0.0]},\n",
       " '00280002': {'vr': 'US', 'Value': [1]},\n",
       " '00280004': {'vr': 'CS', 'Value': ['MONOCHROME2']},\n",
       " '00280010': {'vr': 'US', 'Value': [3000]},\n",
       " '00280011': {'vr': 'US', 'Value': [2932]},\n",
       " '00280034': {'vr': 'IS', 'Value': [1, 1]},\n",
       " '00280100': {'vr': 'US', 'Value': [16]},\n",
       " '00280101': {'vr': 'US', 'Value': [12]},\n",
       " '00280102': {'vr': 'US', 'Value': [11]},\n",
       " '00280103': {'vr': 'US', 'Value': [0]},\n",
       " '00281050': {'vr': 'DS', 'Value': [2047.0]},\n",
       " '00281051': {'vr': 'DS', 'Value': [4095.0]},\n",
       " '00281052': {'vr': 'DS', 'Value': [0.0]},\n",
       " '00281053': {'vr': 'DS', 'Value': [1.0]},\n",
       " '00282110': {'vr': 'CS', 'Value': ['00']}}"
      ]
     },
     "execution_count": 29,
     "metadata": {},
     "output_type": "execute_result"
    }
   ],
   "source": [
    "test.to_json_dict()"
   ]
  },
  {
   "cell_type": "code",
   "execution_count": null,
   "id": "7c54effd",
   "metadata": {},
   "outputs": [],
   "source": [
    "def get_dicom_metadata(images_dir: str):\n",
    "    images = glob.glob(images_dir)\n",
    "    metadata_dict = {}\n",
    "    for image in images:\n",
    "        image_id = Path(image).stem\n",
    "        dicom = pydicom.dcmread(image, stop_before_pixels=True)\n",
    "        metadata = dicom.to_json_dict()\n",
    "        metadata_dict[image_id] = metadata\n",
    "    return metadata_dict"
   ]
  },
  {
   "cell_type": "code",
   "execution_count": 33,
   "id": "354153d8",
   "metadata": {},
   "outputs": [],
   "source": [
    "metadata = get_dicom_metadata(images_dir)"
   ]
  }
 ],
 "metadata": {
  "kernelspec": {
   "display_name": "mini_vindr_cxr_dataset",
   "language": "python",
   "name": "python3"
  },
  "language_info": {
   "codemirror_mode": {
    "name": "ipython",
    "version": 3
   },
   "file_extension": ".py",
   "mimetype": "text/x-python",
   "name": "python",
   "nbconvert_exporter": "python",
   "pygments_lexer": "ipython3",
   "version": "3.11.12"
  }
 },
 "nbformat": 4,
 "nbformat_minor": 5
}
