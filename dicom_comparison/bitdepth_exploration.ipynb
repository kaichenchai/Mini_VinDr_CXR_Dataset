{
 "cells": [
  {
   "cell_type": "code",
   "execution_count": 16,
   "id": "f454c785",
   "metadata": {},
   "outputs": [],
   "source": [
    "import glob\n",
    "import pydicom\n",
    "from pathlib import Path\n",
    "import pandas as pd\n",
    "import matplotlib.pyplot as plt"
   ]
  },
  {
   "cell_type": "code",
   "execution_count": 23,
   "id": "67dec8ca",
   "metadata": {},
   "outputs": [],
   "source": [
    "images_dir = \"../original_dataset/train_subset/*.dicom\"\n",
    "images = glob.glob(images_dir)"
   ]
  },
  {
   "cell_type": "code",
   "execution_count": 27,
   "id": "16ddbc66",
   "metadata": {},
   "outputs": [],
   "source": [
    "test = pydicom.dcmread(images[0], stop_before_pixels=True)"
   ]
  },
  {
   "cell_type": "code",
   "execution_count": 28,
   "id": "2d412b99",
   "metadata": {},
   "outputs": [
    {
     "data": {
      "text/plain": [
       "12"
      ]
     },
     "execution_count": 28,
     "metadata": {},
     "output_type": "execute_result"
    }
   ],
   "source": [
    "test.BitsStored"
   ]
  },
  {
   "cell_type": "code",
   "execution_count": 29,
   "id": "642e1658",
   "metadata": {},
   "outputs": [
    {
     "data": {
      "text/plain": [
       "{'00100040': {'vr': 'CS', 'Value': ['F']},\n",
       " '00101020': {'vr': 'DS', 'Value': [0.0]},\n",
       " '00101030': {'vr': 'DS', 'Value': [0.0]},\n",
       " '00280002': {'vr': 'US', 'Value': [1]},\n",
       " '00280004': {'vr': 'CS', 'Value': ['MONOCHROME2']},\n",
       " '00280010': {'vr': 'US', 'Value': [3000]},\n",
       " '00280011': {'vr': 'US', 'Value': [2932]},\n",
       " '00280034': {'vr': 'IS', 'Value': [1, 1]},\n",
       " '00280100': {'vr': 'US', 'Value': [16]},\n",
       " '00280101': {'vr': 'US', 'Value': [12]},\n",
       " '00280102': {'vr': 'US', 'Value': [11]},\n",
       " '00280103': {'vr': 'US', 'Value': [0]},\n",
       " '00281050': {'vr': 'DS', 'Value': [2047.0]},\n",
       " '00281051': {'vr': 'DS', 'Value': [4095.0]},\n",
       " '00281052': {'vr': 'DS', 'Value': [0.0]},\n",
       " '00281053': {'vr': 'DS', 'Value': [1.0]},\n",
       " '00282110': {'vr': 'CS', 'Value': ['00']}}"
      ]
     },
     "execution_count": 29,
     "metadata": {},
     "output_type": "execute_result"
    }
   ],
   "source": [
    "test.to_json_dict()"
   ]
  },
  {
   "cell_type": "code",
   "execution_count": null,
   "id": "7c54effd",
   "metadata": {},
   "outputs": [],
   "source": [
    "def get_dicom_metadata(images_dir: str):\n",
    "    images = glob.glob(images_dir)\n",
    "    metadata_dict = {}\n",
    "    for image in images:\n",
    "        image_id = Path(image).stem\n",
    "        dicom = pydicom.dcmread(image, stop_before_pixels=True)\n",
    "        metadata = dicom.to_json_dict()\n",
    "        metadata_dict[image_id] = metadata\n",
    "    return metadata_dict"
   ]
  },
  {
   "cell_type": "code",
   "execution_count": 33,
   "id": "354153d8",
   "metadata": {},
   "outputs": [],
   "source": [
    "metadata = get_dicom_metadata(images_dir)"
   ]
  },
  {
   "cell_type": "code",
   "execution_count": 9,
   "id": "786d2f63",
   "metadata": {},
   "outputs": [],
   "source": [
    "vindr_test = pd.read_json(\"vindr_test_metadata.json\", orient=\"index\")\n",
    "vindr_train = pd.read_json(\"vindr_train_metadata.json\", orient=\"index\")"
   ]
  },
  {
   "cell_type": "code",
   "execution_count": 12,
   "id": "4cd0386c",
   "metadata": {},
   "outputs": [],
   "source": [
    "vindr_train_bit_info = vindr_train[[280100, 280101, 280102]]\n",
    "vindr_test_bit_info = vindr_test[[280100, 280101, 280102]]"
   ]
  },
  {
   "cell_type": "code",
   "execution_count": 15,
   "id": "b56e3d64",
   "metadata": {},
   "outputs": [
    {
     "name": "stderr",
     "output_type": "stream",
     "text": [
      "/var/folders/d0/k5pp1mc555bcl1qs6mvttwt40000gn/T/ipykernel_4577/92230220.py:3: SettingWithCopyWarning: \n",
      "A value is trying to be set on a copy of a slice from a DataFrame.\n",
      "Try using .loc[row_indexer,col_indexer] = value instead\n",
      "\n",
      "See the caveats in the documentation: https://pandas.pydata.org/pandas-docs/stable/user_guide/indexing.html#returning-a-view-versus-a-copy\n",
      "  vindr_test_bit_info[col] = vindr_test_bit_info.apply(lambda row: row[col][\"Value\"][0], axis=1)\n",
      "/var/folders/d0/k5pp1mc555bcl1qs6mvttwt40000gn/T/ipykernel_4577/92230220.py:4: SettingWithCopyWarning: \n",
      "A value is trying to be set on a copy of a slice from a DataFrame.\n",
      "Try using .loc[row_indexer,col_indexer] = value instead\n",
      "\n",
      "See the caveats in the documentation: https://pandas.pydata.org/pandas-docs/stable/user_guide/indexing.html#returning-a-view-versus-a-copy\n",
      "  vindr_train_bit_info[col] = vindr_train_bit_info.apply(lambda row: row[col][\"Value\"][0], axis=1)\n"
     ]
    }
   ],
   "source": [
    "columns_to_unpack = [280100, 280101, 280102]\n",
    "for col in columns_to_unpack:\n",
    "    vindr_test_bit_info[col] = vindr_test_bit_info.apply(lambda row: row[col][\"Value\"][0], axis=1)\n",
    "    vindr_train_bit_info[col] = vindr_train_bit_info.apply(lambda row: row[col][\"Value\"][0], axis=1)"
   ]
  },
  {
   "cell_type": "code",
   "execution_count": 22,
   "id": "f61b80d9",
   "metadata": {},
   "outputs": [
    {
     "name": "stdout",
     "output_type": "stream",
     "text": [
      "280100\n",
      "16    15000\n",
      "Name: count, dtype: int64\n",
      "280100\n",
      "16    3000\n",
      "Name: count, dtype: int64\n",
      "280101\n",
      "12    10609\n",
      "14     3472\n",
      "16      860\n",
      "10       59\n",
      "Name: count, dtype: int64\n",
      "280101\n",
      "12    2073\n",
      "14     624\n",
      "16     268\n",
      "10      35\n",
      "Name: count, dtype: int64\n",
      "280102\n",
      "11    10609\n",
      "13     3472\n",
      "15      860\n",
      "9        59\n",
      "Name: count, dtype: int64\n",
      "280102\n",
      "11    2073\n",
      "13     624\n",
      "15     268\n",
      "9       35\n",
      "Name: count, dtype: int64\n"
     ]
    }
   ],
   "source": [
    "for col in columns_to_unpack:\n",
    "    print(vindr_train_bit_info[col].value_counts())\n",
    "    print(vindr_test_bit_info[col].value_counts())"
   ]
  },
  {
   "cell_type": "code",
   "execution_count": 27,
   "id": "b5e813e1",
   "metadata": {},
   "outputs": [
    {
     "name": "stderr",
     "output_type": "stream",
     "text": [
      "/Users/kaichenchai/.pyenv/versions/mini_vindr_cxr_dataset/lib/python3.11/site-packages/pydicom/pixel_data_handlers/pillow_handler.py:238: UserWarning: The (0028,0101) 'Bits Stored' value (12-bit) doesn't match the JPEG 2000 data (16-bit). It's recommended that you change the 'Bits Stored' value\n",
      "  warnings.warn(\n"
     ]
    },
    {
     "data": {
      "text/plain": [
       "array([[4091, 4089, 4092, ..., 4095, 4095, 4095],\n",
       "       [4091, 4089, 4092, ..., 4095, 4095, 4095],\n",
       "       [4089, 4091, 4089, ..., 4095, 4094, 4095],\n",
       "       ...,\n",
       "       [4092, 4092, 4093, ..., 4094, 4095, 4094],\n",
       "       [4091, 4091, 4092, ..., 4093, 4094, 4094],\n",
       "       [4094, 4094, 4092, ..., 4093, 4092, 4092]], dtype=uint16)"
      ]
     },
     "execution_count": 27,
     "metadata": {},
     "output_type": "execute_result"
    }
   ],
   "source": [
    "dicom_img = pydicom.dcmread(\"../original_dataset/test_subset/0aed23e64ebdea798486056b4f174424.dicom\")\n",
    "data = dicom_img.pixel_array\n",
    "data"
   ]
  }
 ],
 "metadata": {
  "kernelspec": {
   "display_name": "mini_vindr_cxr_dataset",
   "language": "python",
   "name": "python3"
  },
  "language_info": {
   "codemirror_mode": {
    "name": "ipython",
    "version": 3
   },
   "file_extension": ".py",
   "mimetype": "text/x-python",
   "name": "python",
   "nbconvert_exporter": "python",
   "pygments_lexer": "ipython3",
   "version": "3.11.12"
  }
 },
 "nbformat": 4,
 "nbformat_minor": 5
}
