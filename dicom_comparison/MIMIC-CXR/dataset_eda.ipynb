{
 "cells": [
  {
   "cell_type": "code",
   "execution_count": 1,
   "id": "8a7444a4",
   "metadata": {},
   "outputs": [],
   "source": [
    "import pandas as pd"
   ]
  },
  {
   "cell_type": "code",
   "execution_count": 3,
   "id": "96d461d8",
   "metadata": {},
   "outputs": [],
   "source": [
    "df = pd.read_csv(\"mimic-cxr-2.0.0-chexpert.csv\")"
   ]
  },
  {
   "cell_type": "code",
   "execution_count": 4,
   "id": "9814ead1",
   "metadata": {},
   "outputs": [],
   "source": [
    "df_filtered = df[df['Pneumothorax'].notnull()]"
   ]
  },
  {
   "cell_type": "code",
   "execution_count": null,
   "id": "24de2fca",
   "metadata": {},
   "outputs": [
    {
     "data": {
      "application/vnd.microsoft.datawrangler.viewer.v0+json": {
       "columns": [
        {
         "name": "('subject_id', 'study_id', 'Pneumothorax')",
         "rawType": "object",
         "type": "unknown"
        },
        {
         "name": "count",
         "rawType": "int64",
         "type": "integer"
        }
       ],
       "ref": "e85b2da7-eb64-464f-8a4c-e24c33d05e48",
       "rows": [
        [
         "(10001217, 58913004, 1.0)",
         "1"
        ],
        [
         "(16690146, 54863731, 0.0)",
         "1"
        ],
        [
         "(16686303, 58169751, 0.0)",
         "1"
        ],
        [
         "(16686345, 53070915, 0.0)",
         "1"
        ],
        [
         "(16686345, 57100470, 0.0)",
         "1"
        ],
        [
         "(16686709, 50524790, 0.0)",
         "1"
        ],
        [
         "(16686709, 50587352, 0.0)",
         "1"
        ],
        [
         "(16686709, 50903091, 0.0)",
         "1"
        ],
        [
         "(16686709, 51371400, 0.0)",
         "1"
        ],
        [
         "(16686709, 51737509, 0.0)",
         "1"
        ],
        [
         "(16686709, 52512656, 0.0)",
         "1"
        ],
        [
         "(16686709, 54556868, 0.0)",
         "1"
        ],
        [
         "(16686709, 54836905, -1.0)",
         "1"
        ],
        [
         "(16686709, 56505472, 0.0)",
         "1"
        ],
        [
         "(16686709, 58273752, 0.0)",
         "1"
        ],
        [
         "(16686840, 50718995, 1.0)",
         "1"
        ],
        [
         "(16686840, 52347554, 1.0)",
         "1"
        ],
        [
         "(16686840, 53615608, 1.0)",
         "1"
        ],
        [
         "(16686840, 54899864, 1.0)",
         "1"
        ],
        [
         "(16686840, 57445616, 1.0)",
         "1"
        ],
        [
         "(16686840, 57643065, 1.0)",
         "1"
        ],
        [
         "(16686840, 58322040, 1.0)",
         "1"
        ],
        [
         "(16687100, 59848972, 0.0)",
         "1"
        ],
        [
         "(16687303, 54465239, 0.0)",
         "1"
        ],
        [
         "(16687783, 53871603, 0.0)",
         "1"
        ],
        [
         "(16686303, 58134857, 0.0)",
         "1"
        ],
        [
         "(16686303, 58134744, 0.0)",
         "1"
        ],
        [
         "(16686303, 53361940, 0.0)",
         "1"
        ],
        [
         "(16684213, 51673079, 0.0)",
         "1"
        ],
        [
         "(16682921, 54098198, 1.0)",
         "1"
        ],
        [
         "(16682921, 59097766, 1.0)",
         "1"
        ],
        [
         "(16683014, 55569855, 0.0)",
         "1"
        ],
        [
         "(16683134, 59501357, 0.0)",
         "1"
        ],
        [
         "(16683134, 59716486, 0.0)",
         "1"
        ],
        [
         "(16683512, 53125106, 0.0)",
         "1"
        ],
        [
         "(16683589, 54229624, 0.0)",
         "1"
        ],
        [
         "(16683589, 54889641, 0.0)",
         "1"
        ],
        [
         "(16683589, 57148850, 0.0)",
         "1"
        ],
        [
         "(16683589, 59419909, 0.0)",
         "1"
        ],
        [
         "(16684992, 52119155, 0.0)",
         "1"
        ],
        [
         "(16686303, 53096023, 0.0)",
         "1"
        ],
        [
         "(16685152, 51542944, 0.0)",
         "1"
        ],
        [
         "(16685152, 58408447, 0.0)",
         "1"
        ],
        [
         "(16685967, 51847579, 0.0)",
         "1"
        ],
        [
         "(16686301, 52171242, 0.0)",
         "1"
        ],
        [
         "(16686301, 52441391, 0.0)",
         "1"
        ],
        [
         "(16686301, 53265841, 0.0)",
         "1"
        ],
        [
         "(16686301, 55252772, 1.0)",
         "1"
        ],
        [
         "(16686301, 57682674, 0.0)",
         "1"
        ],
        [
         "(16686301, 57894896, 0.0)",
         "1"
        ]
       ],
       "shape": {
        "columns": 1,
        "rows": 53848
       }
      },
      "text/plain": [
       "subject_id  study_id  Pneumothorax\n",
       "10001217    58913004  1.0             1\n",
       "16690146    54863731  0.0             1\n",
       "16686303    58169751  0.0             1\n",
       "16686345    53070915  0.0             1\n",
       "            57100470  0.0             1\n",
       "                                     ..\n",
       "13358833    54669002  0.0             1\n",
       "            57329687  0.0             1\n",
       "            58326875  0.0             1\n",
       "13359620    51467032  0.0             1\n",
       "19999987    55368167  0.0             1\n",
       "Name: count, Length: 53848, dtype: int64"
      ]
     },
     "execution_count": 8,
     "metadata": {},
     "output_type": "execute_result"
    }
   ],
   "source": [
    "df_filtered[[\"subject_id\", \"study_id\", \"Pneumothorax\"]]"
   ]
  },
  {
   "cell_type": "code",
   "execution_count": 13,
   "id": "5ac9738b",
   "metadata": {},
   "outputs": [
    {
     "data": {
      "application/vnd.microsoft.datawrangler.viewer.v0+json": {
       "columns": [
        {
         "name": "index",
         "rawType": "object",
         "type": "unknown"
        },
        {
         "name": "count",
         "rawType": "int64",
         "type": "integer"
        }
       ],
       "ref": "3a4f94a4-6076-4c5e-824c-cf3aac2cc99c",
       "rows": [
        [
         "(0.0,)",
         "42356"
        ],
        [
         "(1.0,)",
         "10358"
        ],
        [
         "(-1.0,)",
         "1134"
        ]
       ],
       "shape": {
        "columns": 1,
        "rows": 3
       }
      },
      "text/plain": [
       "Pneumothorax\n",
       " 0.0            42356\n",
       " 1.0            10358\n",
       "-1.0             1134\n",
       "Name: count, dtype: int64"
      ]
     },
     "execution_count": 13,
     "metadata": {},
     "output_type": "execute_result"
    }
   ],
   "source": [
    "df_filtered[[\"Pneumothorax\"]].value_counts()"
   ]
  },
  {
   "cell_type": "code",
   "execution_count": null,
   "id": "fb242655",
   "metadata": {},
   "outputs": [],
   "source": []
  }
 ],
 "metadata": {
  "kernelspec": {
   "display_name": "mini_vindr_cxr_dataset",
   "language": "python",
   "name": "python3"
  },
  "language_info": {
   "codemirror_mode": {
    "name": "ipython",
    "version": 3
   },
   "file_extension": ".py",
   "mimetype": "text/x-python",
   "name": "python",
   "nbconvert_exporter": "python",
   "pygments_lexer": "ipython3",
   "version": "3.11.12"
  }
 },
 "nbformat": 4,
 "nbformat_minor": 5
}
