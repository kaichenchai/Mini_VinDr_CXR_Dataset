{
 "cells": [
  {
   "cell_type": "code",
   "execution_count": 109,
   "id": "ed2e0ebe",
   "metadata": {},
   "outputs": [],
   "source": [
    "import numpy as np\n",
    "import pandas as pd\n",
    "import random\n",
    "import copy"
   ]
  },
  {
   "cell_type": "code",
   "execution_count": 104,
   "id": "763b6c9b",
   "metadata": {},
   "outputs": [],
   "source": [
    "df = pd.read_csv(\"../../../stratifiedSplit/15-3-3_split/image_labels_trainNEW.csv\")"
   ]
  },
  {
   "cell_type": "code",
   "execution_count": 105,
   "id": "1d2c3abd",
   "metadata": {},
   "outputs": [],
   "source": [
    "has_condition = df[df[\"Cardiomegaly\"] == 1][\"image_id\"].to_list()\n",
    "no_condition = df[df[\"Cardiomegaly\"] == 0][\"image_id\"].to_list()"
   ]
  },
  {
   "cell_type": "code",
   "execution_count": 106,
   "id": "18e70538",
   "metadata": {},
   "outputs": [
    {
     "name": "stdout",
     "output_type": "stream",
     "text": [
      "1853\n",
      "10147\n",
      "12000\n"
     ]
    }
   ],
   "source": [
    "print(len(has_condition))\n",
    "print(len(no_condition))\n",
    "print((len(has_condition) + len(no_condition)))"
   ]
  },
  {
   "cell_type": "code",
   "execution_count": 107,
   "id": "56c1754c",
   "metadata": {},
   "outputs": [],
   "source": [
    "random.seed(42069)\n",
    "sampled_has_condition = random.sample(has_condition, 200)\n",
    "random.seed(21451)\n",
    "sampled_no_condition = random.sample(no_condition, 200)"
   ]
  },
  {
   "cell_type": "code",
   "execution_count": null,
   "id": "bf8eb501",
   "metadata": {},
   "outputs": [],
   "source": [
    "all_samples = copy.deepcopy(sampled_has_condition)\n",
    "all_samples.extend(sampled_no_condition)\n",
    "cardiomegaly_flag = [1]*200\n",
    "cardiomegaly_flag.extend([0]*200)"
   ]
  },
  {
   "cell_type": "code",
   "execution_count": 117,
   "id": "0c654d77",
   "metadata": {},
   "outputs": [],
   "source": [
    "output_df = pd.DataFrame(list(zip(all_samples, cardiomegaly_flag)), index=None, columns=[\"image_id\", \"cardiomegaly_flag\"])"
   ]
  },
  {
   "cell_type": "code",
   "execution_count": 122,
   "id": "46834e83",
   "metadata": {},
   "outputs": [],
   "source": [
    "output_df.to_csv(\"./cardiomegaly_subset_to_annotate.csv\", index=None)"
   ]
  }
 ],
 "metadata": {
  "kernelspec": {
   "display_name": "mini_vindr_cxr_dataset",
   "language": "python",
   "name": "python3"
  },
  "language_info": {
   "codemirror_mode": {
    "name": "ipython",
    "version": 3
   },
   "file_extension": ".py",
   "mimetype": "text/x-python",
   "name": "python",
   "nbconvert_exporter": "python",
   "pygments_lexer": "ipython3",
   "version": "3.11.12"
  }
 },
 "nbformat": 4,
 "nbformat_minor": 5
}
